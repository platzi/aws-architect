{
 "cells": [
  {
   "cell_type": "markdown",
   "metadata": {},
   "source": [
    "# Lab 1 Consola de administración y AWS Budgets\n",
    "\n",
    "---\n",
    "\n",
    "**Objetivo:**\n",
    "\n",
    "Configurar un presupuesto en AWS para monitorear el gasto y recibir alertas cuando los costos se acerquen a un límite establecido.\n",
    "\n",
    "**Pasos:**\n",
    "\n",
    "1. **Accede a la Consola de AWS**:\n",
    "    - Inicia sesión en la consola de AWS [https://console.aws.amazon.com](https://console.aws.amazon.com/) y ve al servicio **Billing and Cost Management**.\n",
    "    - En el menú de la izquierda, selecciona **Budgets**.\n",
    "2. **Crear un Nuevo Budget**:\n",
    "    - Haz clic en el botón **Create budget** para empezar a configurar un nuevo presupuesto.\n",
    "3. **Selecciona el Tipo de Budget**:\n",
    "    1. Primero seleciona la opcion Customize (advanced) en la seccion de Budget setup\n",
    "    - AWS ofrece varios tipos de presupuestos, como:\n",
    "        - **Cost budget**: Para monitorear el costo total de tu cuenta o servicios específicos.\n",
    "        - **Usage budget**: Para monitorear el uso de servicios (como horas de EC2).\n",
    "        - **Reservation budget**: Para monitorizar el uso de instancias reservadas.\n",
    "    - Para este lab, selecciona **Cost budget** y luego haz clic en **Set your budget**.\n",
    "4. **Configura los Detalles del Presupuesto**:\n",
    "    - **Budget Name**: Dale un nombre descriptivo al presupuesto, como *Monthly EC2 Cost o el que quieras!!.*\n",
    "    - **Period**: Selecciona la frecuencia con la que deseas que se renueve el presupuesto (recomendado: **Monthly** para monitoreo mensual).\n",
    "        - Luego para el tipo de renovación del presupuesto dejalo en recurrrente\n",
    "        - Para el metodo dejalo en fjo\n",
    "    - **Budgeted Amount**: Ingresa el monto límite del presupuesto. Por ejemplo, si deseas recibir alertas cuando el costo mensual se acerque a $5, introduce \"5\".\n",
    "    - Para el **Budget Scope deja la opcion All AWS Services (Recommended)**\n",
    "    - Y da click en Next\n",
    "5. **Configura Alertas**:\n",
    "    - En la sección de **Alerts**, puedes configurar notificaciones para cuando el gasto alcance un cierto porcentaje del presupuesto.\n",
    "    - Haz clic en **Add an alert threshold** y establece el porcentaje y el monto. Por ejemplo:\n",
    "        - 80% de $5 ($4): para recibir una alerta cuando el gasto alcance el 80% del presupuesto.\n",
    "    - **Notification recipients**: Ingresa la dirección de correo electrónico donde deseas recibir las alertas.\n",
    "6. **Revisar y Crear el Presupuesto**:\n",
    "    - Revisa la configuración del presupuesto y las alertas.\n",
    "    - Haz clic en **Create budget** para guardar el presupuesto.\n",
    "7. **Verificar el Budget Configurado**:\n",
    "    - Una vez creado, verás tu nuevo presupuesto en la consola de **Budgets**. Puedes regresar aquí para monitorear el estado y modificar las alertas si es necesario.\n",
    "\n",
    "**Resultados Esperados:**\n",
    "\n",
    "Al completar este lab, habrás configurado un presupuesto en AWS que te ayudará a monitorear los costos y recibir alertas cuando se acerquen al límite establecido.\n",
    "\n",
    "Este proceso es fundamental para el control de costos y gestión financiera en AWS."
   ]
  }
 ],
 "metadata": {
  "language_info": {
   "name": "python"
  }
 },
 "nbformat": 4,
 "nbformat_minor": 2
}
